{
  "nbformat": 4,
  "nbformat_minor": 0,
  "metadata": {
    "colab": {
      "provenance": [],
      "mount_file_id": "1sSxyz3jauJacK5K_pafNljJFO1k3f0pf",
      "authorship_tag": "ABX9TyNoCE54cxgRD2tuY+WX73ZF",
      "include_colab_link": true
    },
    "kernelspec": {
      "name": "python3",
      "display_name": "Python 3"
    },
    "language_info": {
      "name": "python"
    }
  },
  "cells": [
    {
      "cell_type": "markdown",
      "metadata": {
        "id": "view-in-github",
        "colab_type": "text"
      },
      "source": [
        "<a href=\"https://colab.research.google.com/github/delrio-jaemee/CSST106-CS4B-DELRIO/blob/main/4B_DEL_RIO_MP1.ipynb\" target=\"_parent\"><img src=\"https://colab.research.google.com/assets/colab-badge.svg\" alt=\"Open In Colab\"/></a>"
      ]
    },
    {
      "cell_type": "markdown",
      "source": [
        "DEL RIO, JAEMEE DIANE T.\n",
        "\n",
        "BSCS IS - 4B\n",
        "\n",
        "MACHINE PROBLEM 1"
      ],
      "metadata": {
        "id": "XIt5CwEpavOt"
      }
    },
    {
      "cell_type": "code",
      "source": [
        "from google.colab import drive\n",
        "drive.mount('/content/drive')"
      ],
      "metadata": {
        "colab": {
          "base_uri": "https://localhost:8080/"
        },
        "id": "rfUZC4fCZvvK",
        "outputId": "2c9287c5-8a08-4220-86ed-72fc0ae97cde"
      },
      "execution_count": 1,
      "outputs": [
        {
          "output_type": "stream",
          "name": "stdout",
          "text": [
            "Drive already mounted at /content/drive; to attempt to forcibly remount, call drive.mount(\"/content/drive\", force_remount=True).\n"
          ]
        }
      ]
    },
    {
      "cell_type": "code",
      "source": [
        "import os\n",
        "path = '/content/drive/MyDrive/4B-DEL RIO-MP1'\n",
        "if os.path.exists(path):\n",
        "    print(\"Path exists!\")\n",
        "else:\n",
        "    print(\"Path does not exist. Check the folder name and path.\")\n",
        "for file_name in os.listdir(path):\n",
        "    print(file_name)\n",
        "\n",
        ""
      ],
      "metadata": {
        "colab": {
          "base_uri": "https://localhost:8080/"
        },
        "id": "QbXozm1BaW3l",
        "outputId": "e23d7166-2aeb-4b6d-c492-eeb8ada24ab9"
      },
      "execution_count": 8,
      "outputs": [
        {
          "output_type": "stream",
          "name": "stdout",
          "text": [
            "Path exists!\n",
            "4B-DEL RIO-MP1.md.mp4\n",
            "MP 1-Computer Vision and Image Processing (1).pptx\n"
          ]
        }
      ]
    },
    {
      "cell_type": "markdown",
      "source": [
        "https://drive.google.com/drive/folders/1pbraS0oxxrhye1cTVCVrrbIsYqKtUc3G?usp=drive_link"
      ],
      "metadata": {
        "id": "T_xvrkgKjm-s"
      }
    }
  ]
}